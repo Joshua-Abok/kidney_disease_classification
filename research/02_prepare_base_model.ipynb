{
 "cells": [
  {
   "cell_type": "code",
   "execution_count": 1,
   "metadata": {},
   "outputs": [],
   "source": [
    "import os "
   ]
  },
  {
   "cell_type": "code",
   "execution_count": 2,
   "metadata": {},
   "outputs": [
    {
     "data": {
      "text/plain": [
       "'d:\\\\per\\\\Codes\\\\Kaggle\\\\kidney_disease_classification\\\\research'"
      ]
     },
     "execution_count": 2,
     "metadata": {},
     "output_type": "execute_result"
    }
   ],
   "source": [
    "%pwd "
   ]
  },
  {
   "cell_type": "code",
   "execution_count": 3,
   "metadata": {},
   "outputs": [],
   "source": [
    "os.chdir(\"../\")"
   ]
  },
  {
   "cell_type": "code",
   "execution_count": 4,
   "metadata": {},
   "outputs": [
    {
     "data": {
      "text/plain": [
       "'d:\\\\per\\\\Codes\\\\Kaggle\\\\kidney_disease_classification'"
      ]
     },
     "execution_count": 4,
     "metadata": {},
     "output_type": "execute_result"
    }
   ],
   "source": [
    "%pwd"
   ]
  },
  {
   "cell_type": "markdown",
   "metadata": {},
   "source": [
    "##### 4. updating/assigning entities"
   ]
  },
  {
   "cell_type": "code",
   "execution_count": 5,
   "metadata": {},
   "outputs": [],
   "source": [
    "from dataclasses import dataclass\n",
    "from pathlib import Path\n",
    "\n",
    "@dataclass(frozen=True)    # don't want any changes that's why frozen=True\n",
    "class PrepareBaseModelConfig: \n",
    "    root_dir: Path\n",
    "    base_model_path: Path\n",
    "    updated_base_model_path: Path\n",
    "    params_image_size: list\n",
    "    params_learning_rate: float\n",
    "    params_include_top: bool \n",
    "    params_weights: str\n",
    "    params_classes: int"
   ]
  },
  {
   "cell_type": "markdown",
   "metadata": {},
   "source": [
    "##### 5.update the configuration manager in src config"
   ]
  },
  {
   "cell_type": "code",
   "execution_count": 6,
   "metadata": {},
   "outputs": [],
   "source": [
    "from cnnClassifier.constants import * \n",
    "from cnnClassifier.utils.common import read_yaml, create_directories"
   ]
  },
  {
   "cell_type": "code",
   "execution_count": 7,
   "metadata": {},
   "outputs": [],
   "source": [
    "class ConfigurationManager: \n",
    "    def __init__(\n",
    "            self, \n",
    "            config_filepath = CONFIG_FILE_PATH,\n",
    "            params_filepath = PARAMS_FILE_PATH): \n",
    "\n",
    "            self.config = read_yaml(config_filepath)\n",
    "            self.params = read_yaml(params_filepath)\n",
    "\n",
    "            create_directories([self.config.artifacts_root])\n",
    "\n",
    "            \n",
    "    def get_prepare_base_model_config(self) -> PrepareBaseModelConfig:   # return type of func: PrepareBaseModelConfig\n",
    "          config = self.config.prepare_base_model \n",
    "\n",
    "          create_directories([config.root_dir])\n",
    "\n",
    "          prepare_base_model_config = PrepareBaseModelConfig(\n",
    "                  root_dir=Path(config.root_dir), \n",
    "                  base_model_path=Path(config.base_model_path),\n",
    "                  updated_base_model_path=Path(config.updated_base_model_path),\n",
    "                  params_image_size=self.params.IMAGE_SIZE, \n",
    "                  params_learning_rate=self.params.LEARNING_RATE,\n",
    "                  params_include_top=self.params.INCLUDE_TOP, \n",
    "                  params_weights=self.params.WEIGHTS,                  \n",
    "                  params_classes=self.params.CLASSES  \n",
    "                                  )\n",
    "\n",
    "          return prepare_base_model_config"
   ]
  },
  {
   "cell_type": "markdown",
   "metadata": {},
   "source": [
    "##### 6. Update the components"
   ]
  },
  {
   "cell_type": "code",
   "execution_count": 8,
   "metadata": {},
   "outputs": [],
   "source": [
    "import os\n",
    "import urllib.request as request\n",
    "from zipfile import ZipFile\n",
    "import tensorflow as tf"
   ]
  },
  {
   "cell_type": "code",
   "execution_count": 9,
   "metadata": {},
   "outputs": [],
   "source": [
    "# class PrepareBaseModel taking PrepareBaseModelConfig\n",
    "\n",
    "\n",
    "class PrepareBaseModel: \n",
    "    def __init__(self, config: PrepareBaseModelConfig):\n",
    "        self.config = config\n",
    "\n",
    "    def get_base_model(self):\n",
    "        self.model = tf.keras.applications.vgg16.VGG16(\n",
    "            input_shape=self.config.params_image_size,\n",
    "            weights=self.config.params_weights,\n",
    "            include_top=self.config.params_include_top\n",
    "        )\n",
    "\n",
    "        self.save_model(path=self.config.base_model_path, model=self.model)\n",
    "    \n",
    "    # Add last layer with number of classes & activation function\n",
    "    def _prepare_full_model(model, classes, freeze_all, freeze_till, learning_rate):\n",
    "        if freeze_all: \n",
    "            for layer in model.layers:\n",
    "                model.trainable = False\n",
    "        elif (freeze_till is not None) and (freeze_till > 0):\n",
    "            for layer in model.layers[:-freeze_till]:\n",
    "                model.trainable = False\n",
    "\n",
    "        flatten_in = tf.keras.layers.Flatten()(model.output)\n",
    "        prediction = tf.keras.layers.Dense(\n",
    "            units=classes, \n",
    "            activation=\"softmax\"\n",
    "        )(flatten_in)\n",
    "\n",
    "        full_model = tf.keras.models.Model(\n",
    "            inputs=model.input, \n",
    "            outputs=prediction\n",
    "        )\n",
    "\n",
    "        full_model.compile(\n",
    "            optimizer=tf.keras.optimizers.SGD(learning_rate=learning_rate), \n",
    "            loss=tf.keras.losses.CategoricalCrossentropy(), \n",
    "            metrics=[\"accuracy\"]\n",
    "        )\n",
    "\n",
    "        full_model.summary()\n",
    "        return full_model     #return our full model\n",
    "    \n",
    "                     # calling _prepare_full_model \n",
    "    def update_base_model(self): \n",
    "        self.full_model = self._prepare_full_model(       \n",
    "            model=self.model, \n",
    "            classes=self.config.params_classes, \n",
    "            freeze_all=True, \n",
    "            freeze_till=None, \n",
    "            learning_rate=self.config.params_learning_rate\n",
    "        )\n",
    "\n",
    "        self.save_model(path=self.config.updated_base_model_path, model=self.full_model)\n",
    "                            # calling save model\n",
    "\n",
    "\n",
    "    @staticmethod     #static func to take model & save\n",
    "    def save_model(path: Path, model: tf.keras.Model):\n",
    "        model.save(path)"
   ]
  },
  {
   "cell_type": "markdown",
   "metadata": {},
   "source": [
    "##### 7. Update/Define the Pipeline"
   ]
  },
  {
   "cell_type": "code",
   "execution_count": 10,
   "metadata": {},
   "outputs": [
    {
     "name": "stdout",
     "output_type": "stream",
     "text": [
      "[2023-10-26 04:59:47,364: INFO: common: yaml file: config\\config.yaml loaded successfully]\n",
      "[2023-10-26 04:59:47,378: INFO: common: yaml file: params.yaml loaded successfully]\n",
      "[2023-10-26 04:59:47,382: INFO: common: created directory at: artifacts]\n",
      "[2023-10-26 04:59:47,385: INFO: common: created directory at: artifacts/prepare_base_model]\n",
      "[2023-10-26 04:59:48,325: WARNING: saving_utils: Compiled the loaded model, but the compiled metrics have yet to be built. `model.compile_metrics` will be empty until you train or evaluate the model.]\n"
     ]
    },
    {
     "ename": "TypeError",
     "evalue": "_prepare_full_model() got multiple values for argument 'model'",
     "output_type": "error",
     "traceback": [
      "\u001b[1;31m---------------------------------------------------------------------------\u001b[0m",
      "\u001b[1;31mTypeError\u001b[0m                                 Traceback (most recent call last)",
      "\u001b[1;32md:\\per\\Codes\\Kaggle\\kidney_disease_classification\\research\\02_prepare_base_model.ipynb Cell 14\u001b[0m line \u001b[0;36m1\n\u001b[0;32m     <a href='vscode-notebook-cell:/d%3A/per/Codes/Kaggle/kidney_disease_classification/research/02_prepare_base_model.ipynb#X16sZmlsZQ%3D%3D?line=9'>10</a>\u001b[0m     prepare_base_model\u001b[39m.\u001b[39mupdate_base_model()\n\u001b[0;32m     <a href='vscode-notebook-cell:/d%3A/per/Codes/Kaggle/kidney_disease_classification/research/02_prepare_base_model.ipynb#X16sZmlsZQ%3D%3D?line=10'>11</a>\u001b[0m \u001b[39mexcept\u001b[39;00m \u001b[39mException\u001b[39;00m \u001b[39mas\u001b[39;00m e:   \u001b[39m# if any exception is there \u001b[39;00m\n\u001b[1;32m---> <a href='vscode-notebook-cell:/d%3A/per/Codes/Kaggle/kidney_disease_classification/research/02_prepare_base_model.ipynb#X16sZmlsZQ%3D%3D?line=11'>12</a>\u001b[0m     \u001b[39mraise\u001b[39;00m e \n",
      "\u001b[1;32md:\\per\\Codes\\Kaggle\\kidney_disease_classification\\research\\02_prepare_base_model.ipynb Cell 14\u001b[0m line \u001b[0;36m1\n\u001b[0;32m      <a href='vscode-notebook-cell:/d%3A/per/Codes/Kaggle/kidney_disease_classification/research/02_prepare_base_model.ipynb#X16sZmlsZQ%3D%3D?line=7'>8</a>\u001b[0m     prepare_base_model \u001b[39m=\u001b[39m PrepareBaseModel(config\u001b[39m=\u001b[39mprepare_base_model_config)\n\u001b[0;32m      <a href='vscode-notebook-cell:/d%3A/per/Codes/Kaggle/kidney_disease_classification/research/02_prepare_base_model.ipynb#X16sZmlsZQ%3D%3D?line=8'>9</a>\u001b[0m     prepare_base_model\u001b[39m.\u001b[39mget_base_model()\n\u001b[1;32m---> <a href='vscode-notebook-cell:/d%3A/per/Codes/Kaggle/kidney_disease_classification/research/02_prepare_base_model.ipynb#X16sZmlsZQ%3D%3D?line=9'>10</a>\u001b[0m     prepare_base_model\u001b[39m.\u001b[39;49mupdate_base_model()\n\u001b[0;32m     <a href='vscode-notebook-cell:/d%3A/per/Codes/Kaggle/kidney_disease_classification/research/02_prepare_base_model.ipynb#X16sZmlsZQ%3D%3D?line=10'>11</a>\u001b[0m \u001b[39mexcept\u001b[39;00m \u001b[39mException\u001b[39;00m \u001b[39mas\u001b[39;00m e:   \u001b[39m# if any exception is there \u001b[39;00m\n\u001b[0;32m     <a href='vscode-notebook-cell:/d%3A/per/Codes/Kaggle/kidney_disease_classification/research/02_prepare_base_model.ipynb#X16sZmlsZQ%3D%3D?line=11'>12</a>\u001b[0m     \u001b[39mraise\u001b[39;00m e \n",
      "\u001b[1;32md:\\per\\Codes\\Kaggle\\kidney_disease_classification\\research\\02_prepare_base_model.ipynb Cell 14\u001b[0m line \u001b[0;36m4\n\u001b[0;32m     <a href='vscode-notebook-cell:/d%3A/per/Codes/Kaggle/kidney_disease_classification/research/02_prepare_base_model.ipynb#X16sZmlsZQ%3D%3D?line=46'>47</a>\u001b[0m \u001b[39mdef\u001b[39;00m \u001b[39mupdate_base_model\u001b[39m(\u001b[39mself\u001b[39m): \n\u001b[1;32m---> <a href='vscode-notebook-cell:/d%3A/per/Codes/Kaggle/kidney_disease_classification/research/02_prepare_base_model.ipynb#X16sZmlsZQ%3D%3D?line=47'>48</a>\u001b[0m     \u001b[39mself\u001b[39m\u001b[39m.\u001b[39mfull_model \u001b[39m=\u001b[39m \u001b[39mself\u001b[39;49m\u001b[39m.\u001b[39;49m_prepare_full_model(       \n\u001b[0;32m     <a href='vscode-notebook-cell:/d%3A/per/Codes/Kaggle/kidney_disease_classification/research/02_prepare_base_model.ipynb#X16sZmlsZQ%3D%3D?line=48'>49</a>\u001b[0m         model\u001b[39m=\u001b[39;49m\u001b[39mself\u001b[39;49m\u001b[39m.\u001b[39;49mmodel, \n\u001b[0;32m     <a href='vscode-notebook-cell:/d%3A/per/Codes/Kaggle/kidney_disease_classification/research/02_prepare_base_model.ipynb#X16sZmlsZQ%3D%3D?line=49'>50</a>\u001b[0m         classes\u001b[39m=\u001b[39;49m\u001b[39mself\u001b[39;49m\u001b[39m.\u001b[39;49mconfig\u001b[39m.\u001b[39;49mparams_classes, \n\u001b[0;32m     <a href='vscode-notebook-cell:/d%3A/per/Codes/Kaggle/kidney_disease_classification/research/02_prepare_base_model.ipynb#X16sZmlsZQ%3D%3D?line=50'>51</a>\u001b[0m         freeze_all\u001b[39m=\u001b[39;49m\u001b[39mTrue\u001b[39;49;00m, \n\u001b[0;32m     <a href='vscode-notebook-cell:/d%3A/per/Codes/Kaggle/kidney_disease_classification/research/02_prepare_base_model.ipynb#X16sZmlsZQ%3D%3D?line=51'>52</a>\u001b[0m         freeze_till\u001b[39m=\u001b[39;49m\u001b[39mNone\u001b[39;49;00m, \n\u001b[0;32m     <a href='vscode-notebook-cell:/d%3A/per/Codes/Kaggle/kidney_disease_classification/research/02_prepare_base_model.ipynb#X16sZmlsZQ%3D%3D?line=52'>53</a>\u001b[0m         learning_rate\u001b[39m=\u001b[39;49m\u001b[39mself\u001b[39;49m\u001b[39m.\u001b[39;49mconfig\u001b[39m.\u001b[39;49mparams_learning_rate\n\u001b[0;32m     <a href='vscode-notebook-cell:/d%3A/per/Codes/Kaggle/kidney_disease_classification/research/02_prepare_base_model.ipynb#X16sZmlsZQ%3D%3D?line=53'>54</a>\u001b[0m     )\n\u001b[0;32m     <a href='vscode-notebook-cell:/d%3A/per/Codes/Kaggle/kidney_disease_classification/research/02_prepare_base_model.ipynb#X16sZmlsZQ%3D%3D?line=55'>56</a>\u001b[0m     \u001b[39mself\u001b[39m\u001b[39m.\u001b[39msave_model(path\u001b[39m=\u001b[39m\u001b[39mself\u001b[39m\u001b[39m.\u001b[39mconfig\u001b[39m.\u001b[39mupdated_base_model_path, model\u001b[39m=\u001b[39m\u001b[39mself\u001b[39m\u001b[39m.\u001b[39mfull_model)\n",
      "\u001b[1;31mTypeError\u001b[0m: _prepare_full_model() got multiple values for argument 'model'"
     ]
    }
   ],
   "source": [
    "#defining pipeline would mean: \n",
    "    #  1. calling the get_base_model() function\n",
    "    #  2. calling the updates -> update_base_model()\n",
    "\n",
    "try: \n",
    "    config = ConfigurationManager()\n",
    "    prepare_base_model_config = config.get_prepare_base_model_config()\n",
    "    prepare_base_model = PrepareBaseModel(config=prepare_base_model_config)\n",
    "    prepare_base_model.get_base_model()\n",
    "    prepare_base_model.update_base_model()\n",
    "except Exception as e:   # if any exception is there \n",
    "    raise e "
   ]
  },
  {
   "cell_type": "code",
   "execution_count": null,
   "metadata": {},
   "outputs": [],
   "source": []
  }
 ],
 "metadata": {
  "kernelspec": {
   "display_name": "kidney",
   "language": "python",
   "name": "python3"
  },
  "language_info": {
   "codemirror_mode": {
    "name": "ipython",
    "version": 3
   },
   "file_extension": ".py",
   "mimetype": "text/x-python",
   "name": "python",
   "nbconvert_exporter": "python",
   "pygments_lexer": "ipython3",
   "version": "3.8.18"
  }
 },
 "nbformat": 4,
 "nbformat_minor": 2
}
